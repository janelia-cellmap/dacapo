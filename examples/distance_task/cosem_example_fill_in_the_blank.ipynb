{
 "cells": [
  {
   "cell_type": "code",
   "execution_count": null,
   "metadata": {},
   "outputs": [],
   "source": [
    "# First we need to create a config store to store our configurations\n",
    "from dacapo.store.create_store import create_config_store\n",
    "\n",
    "# create the config store\n",
    "config_store = ..."
   ]
  },
  {
   "cell_type": "markdown",
   "metadata": {},
   "source": [
    " ## Datasplit\n",
    " Where can you find your data? What format is it in? Does it need to be normalized? What data do you want to use for validation?\n",
    " We'll assume your data is in a zarr file, and that you have a raw and a ground truth dataset, all stored in your `runs_base_dir` as `example_{type}.zarr` where `{type}` is either `train` or `validate`.\n",
    " NOTE: You may need to delete old config stores if you are re-running this cell with modifications to the configs. The config names are unique and will throw an error if you try to store a config with the same name as an existing config. For the `files` backend, you can delete the `runs_base_dir/configs` directory to remove all stored configs."
   ]
  },
  {
   "cell_type": "code",
   "execution_count": null,
   "metadata": {},
   "outputs": [],
   "source": [
    "from dacapo.experiments.datasplits import DataSplitGenerator\n",
    "from funlib.geometry import Coordinate\n",
    "\n",
    "# We will be working with cosem data and we want to work with 8nm isotropic input resolution for the raw data and output at 4 nm resolution.\n",
    "# Create these resolutions as Coordinates.\n",
    "input_resolution = ...\n",
    "output_resolution = ...\n",
    "\n",
    "# Create the datasplit config using the cosem_example.csv located in the shared learnathon examples\n",
    "datasplit_config = ...\n",
    "\n",
    "# Create the datasplit, produce the neuroglancer link and store the datasplit\n",
    "datasplit = ...\n",
    "viewer = ...\n",
    "config_store...\n"
   ]
  },
  {
   "cell_type": "markdown",
   "metadata": {},
   "source": [
    " ## Task\n",
    " What do you want to learn? An instance segmentation? If so, how? Affinities,\n",
    " Distance Transform, Foreground/Background, etc. Each of these tasks are commonly learned\n",
    " and evaluated with specific loss functions and evaluation metrics. Some tasks may\n",
    " also require specific non-linearities or output formats from your model."
   ]
  },
  {
   "cell_type": "code",
   "execution_count": null,
   "metadata": {},
   "outputs": [],
   "source": [
    "from dacapo.experiments.tasks import DistanceTaskConfig\n",
    "\n",
    "# Create a distance task config where the clip_distance=tol_distance=10x the output resolution,\n",
    "# and scale_factor = 20x the output resolution\n",
    "task_config = \n",
    "config_store....\n"
   ]
  },
  {
   "cell_type": "markdown",
   "metadata": {},
   "source": [
    " ## Architecture\n",
    "\n",
    " The setup of the network you will train. Biomedical image to image translation often utilizes a UNet, but even after choosing a UNet you still need to provide some additional parameters. How much do you want to downsample? How many convolutional layers do you want?"
   ]
  },
  {
   "cell_type": "code",
   "execution_count": null,
   "metadata": {},
   "outputs": [],
   "source": [
    "from dacapo.experiments.architectures import CNNectomeUNetConfig\n",
    "\n",
    "architecture_config = CNNectomeUNetConfig(\n",
    "    name=\"upsample_unet\",\n",
    "    input_shape=Coordinate(216, 216, 216),\n",
    "    eval_shape_increase=Coordinate(72, 72, 72),\n",
    "    fmaps_in=1,\n",
    "    num_fmaps=12,\n",
    "    fmaps_out=72,\n",
    "    fmap_inc_factor=6,\n",
    "    downsample_factors=[(2, 2, 2), (3, 3, 3), (3, 3, 3)],\n",
    "    constant_upsample=True,\n",
    "    upsample_factors=[(2, 2, 2)],\n",
    ")\n",
    "config_store.store_architecture_config(architecture_config)"
   ]
  },
  {
   "cell_type": "markdown",
   "metadata": {},
   "source": [
    " ## Trainer\n",
    "\n",
    " How do you want to train? This config defines the training loop and how the other three components work together. What sort of augmentations to apply during training, what learning rate and optimizer to use, what batch size to train with."
   ]
  },
  {
   "cell_type": "code",
   "execution_count": null,
   "metadata": {},
   "outputs": [],
   "source": [
    "from dacapo.experiments.trainers import GunpowderTrainerConfig\n",
    "from dacapo.experiments.trainers.gp_augments import (\n",
    "    ElasticAugmentConfig,\n",
    "    GammaAugmentConfig,\n",
    "    IntensityAugmentConfig,\n",
    "    IntensityScaleShiftAugmentConfig,\n",
    ")\n",
    "\n",
    "trainer_config = GunpowderTrainerConfig(\n",
    "    name=\"cosem\",\n",
    "    batch_size=1,\n",
    "    learning_rate=0.0001,\n",
    "    num_data_fetchers=20,\n",
    "    augments=[\n",
    "        ElasticAugmentConfig(\n",
    "            control_point_spacing=[100, 100, 100],\n",
    "            control_point_displacement_sigma=[10.0, 10.0, 10.0],\n",
    "            rotation_interval=(0.0, 1.5707963267948966),\n",
    "            subsample=8,\n",
    "            uniform_3d_rotation=True,\n",
    "        ),\n",
    "        # Create an intensity augment config scaling from .25 to 1.25, shifting from -.5 to .35, and with clipping\n",
    "        ...,\n",
    "        # Create a gamma augment config with range .5 to 2\n",
    "        ...,\n",
    "        # Create an intensity scale shift agument config to rescale data from the range 0->1 to -1->1\n",
    "       ...,\n",
    "    ],\n",
    "    snapshot_interval=10000,\n",
    "    min_masked=0.05,\n",
    "    clip_raw=True,\n",
    ")\n",
    "# Store the trainer\n",
    "config_store....\n"
   ]
  },
  {
   "cell_type": "markdown",
   "metadata": {},
   "source": [
    " ## Run\n",
    " Now that we have our components configured, we just need to combine them into a run and start training. We can have multiple repetitions of a single set of configs in order to increase our chances of finding an optimum."
   ]
  },
  {
   "cell_type": "code",
   "execution_count": null,
   "metadata": {},
   "outputs": [],
   "source": [
    "from dacapo.experiments import RunConfig\n",
    "from dacapo.experiments.run import Run\n",
    "\n",
    "start_config = None\n",
    "\n",
    "# Uncomment to start from a pretrained model\n",
    "# start_config = StartConfig(\n",
    "#     \"setup04\",\n",
    "#     \"best\",\n",
    "# )\n",
    "\n",
    "iterations = 2000\n",
    "validation_interval = iterations // 2\n",
    "#  Set up a run using all of the configs and settings you created above\n",
    "run_config = ...\n",
    "\n",
    "print(run_config.name)\n",
    "config_store...\n"
   ]
  },
  {
   "cell_type": "markdown",
   "metadata": {},
   "source": [
    " ## Train\n",
    " NOTE: The run stats are stored in the `runs_base_dir/stats` directory. You can delete this directory to remove all stored stats if you want to re-run training. Otherwise, the stats will be appended to the existing files, and the run won't start from scratch. This may cause errors"
   ]
  },
  {
   "cell_type": "code",
   "execution_count": null,
   "metadata": {},
   "outputs": [],
   "source": [
    "from dacapo.train import train_run\n",
    "from dacapo.experiments.run import Run\n",
    "# load the run and train it\n",
    "run = Run(config_store...)\n",
    "train_run(run)\n"
   ]
  }
 ],
 "metadata": {
  "kernelspec": {
   "display_name": "DaCapo Learnathon",
   "language": "python",
   "name": "dacapo_learnathon"
  },
  "language_info": {
   "codemirror_mode": {
    "name": "ipython",
    "version": 3
   },
   "file_extension": ".py",
   "mimetype": "text/x-python",
   "name": "python",
   "nbconvert_exporter": "python",
   "pygments_lexer": "ipython3",
   "version": "3.10.13"
  }
 },
 "nbformat": 4,
 "nbformat_minor": 4
}
